{
 "cells": [
  {
   "cell_type": "code",
   "execution_count": null,
   "id": "b731fa54",
   "metadata": {},
   "outputs": [],
   "source": [
    "from mpl_toolkits.mplot3d import Axes3D\n",
    "from sklearn.preprocessing import StandardScaler\n",
    "import matplotlib.pyplot as plt # plotting\n",
    "import numpy as np # linear algebra\n"
   ]
  },
  {
   "cell_type": "code",
   "execution_count": null,
   "id": "a687ae96",
   "metadata": {},
   "outputs": [],
   "source": [
    "for dirname, _, filenames in os.walk('/kaggle/input'):\n",
    "    for filename in filenames:\n",
    "        print(os.path.join(dirname, filename))"
   ]
  },
  {
   "cell_type": "code",
   "execution_count": null,
   "id": "0bfcdab4",
   "metadata": {},
   "outputs": [],
   "source": [
    "nRowsRead = 1000 # specify 'None' if want to read whole file\n",
    "df1 = pd.read_csv('/kaggle/input/test_Y3wMUE5_7gLdaTN.csv', delimiter=',', nrows = nRowsRead)\n",
    "df1.dataframeName = 'test_Y3wMUE5_7gLdaTN.csv'\n",
    "nRow, nCol = df1.shape\n",
    "print(f'There are {nRow} rows and {nCol} columns')"
   ]
  },
  {
   "cell_type": "code",
   "execution_count": null,
   "id": "5bf3322a",
   "metadata": {},
   "outputs": [],
   "source": [
    "df.info()"
   ]
  },
  {
   "cell_type": "code",
   "execution_count": null,
   "id": "6cb6011c",
   "metadata": {},
   "outputs": [],
   "source": [
    "print('Gender Mode: ', df['Gender'].mode())\n",
    "print('Married  Mode: ', df['Married'].mode())\n",
    "print('Self_Employed Mode: ', df['Self_Employed'].mode())\n",
    "print('Credit_History Mode: ', df['Credit_History'].mode())"
   ]
  },
  {
   "cell_type": "code",
   "execution_count": null,
   "id": "da07a78f",
   "metadata": {},
   "outputs": [],
   "source": [
    "sns.barplot(x = df['Loan_Amount_Term'], y = df['LoanAmount'])"
   ]
  },
  {
   "cell_type": "code",
   "execution_count": null,
   "id": "16bd3252",
   "metadata": {},
   "outputs": [],
   "source": [
    "df[['Loan_Amount_Term', 'LoanAmount']][df['Loan_Amount_Term'].isnull()]"
   ]
  },
  {
   "cell_type": "code",
   "execution_count": null,
   "id": "9329f41b",
   "metadata": {},
   "outputs": [],
   "source": [
    "df['Dependents'].value_counts()"
   ]
  },
  {
   "cell_type": "code",
   "execution_count": null,
   "id": "723a181d",
   "metadata": {},
   "outputs": [],
   "source": [
    "df['Dependents'].replace('3+',3,inplace = True)\n",
    "df['Dependents'].value_counts()"
   ]
  },
  {
   "cell_type": "code",
   "execution_count": null,
   "id": "9dc48977",
   "metadata": {},
   "outputs": [],
   "source": [
    "df[['Dependents', 'Married']][df['Dependents'].isnull()]"
   ]
  },
  {
   "cell_type": "code",
   "execution_count": null,
   "id": "4cabcfa6",
   "metadata": {},
   "outputs": [],
   "source": [
    "df['Gender'].fillna('Male', inplace = True)\n",
    "df['Married'].fillna('Yes', inplace = True)\n",
    "df['Self_Employed'].fillna('No', inplace = True)\n",
    "df['Credit_History'].fillna('1.0', inplace = True)\n",
    "df['LoanAmount'].fillna((df['LoanAmount'].mean()), inplace = True)\n",
    "df['Loan_Amount_Term'].fillna('84', inplace = True)\n",
    "df['Dependents'].fillna(0, inplace = True)"
   ]
  },
  {
   "cell_type": "code",
   "execution_count": null,
   "id": "40e3ceca",
   "metadata": {},
   "outputs": [],
   "source": [
    "df['Dependents'] = df['Dependents'].astype('int')\n",
    "df['Dependents'].dtype"
   ]
  },
  {
   "cell_type": "code",
   "execution_count": null,
   "id": "fd9fd4bc",
   "metadata": {},
   "outputs": [],
   "source": [
    "df.isnull().sum()"
   ]
  },
  {
   "cell_type": "code",
   "execution_count": null,
   "id": "5670ec21",
   "metadata": {},
   "outputs": [],
   "source": [
    "df.drop('Loan_ID', axis = 1, inplace = True)"
   ]
  },
  {
   "cell_type": "code",
   "execution_count": null,
   "id": "a6b013bf",
   "metadata": {},
   "outputs": [],
   "source": [
    "df.nunique()"
   ]
  },
  {
   "cell_type": "code",
   "execution_count": null,
   "id": "2a985ab4",
   "metadata": {},
   "outputs": [],
   "source": [
    "df.describe()"
   ]
  },
  {
   "cell_type": "code",
   "execution_count": null,
   "id": "fadf2176",
   "metadata": {},
   "outputs": [],
   "source": [
    "plt.figure(figsize = (10,4))\n",
    "sns.catplot(data = df, kind = 'box')\n",
    "plt.xticks(rotation = 90)\n",
    "plt.grid()\n",
    "plt.show()"
   ]
  },
  {
   "cell_type": "code",
   "execution_count": null,
   "id": "0bf668dc",
   "metadata": {},
   "outputs": [],
   "source": [
    "fig, axs = plt.subplots(figsize = (25,6), ncols = 6, nrows = 2)\n",
    "sns.countplot(x = df['Loan_Status'], ax = axs[0,0])\n",
    "sns.countplot(x = df['Gender'], hue = df['Loan_Status'], ax = axs[0,1])\n",
    "sns.countplot(x = df['Married'], hue = df['Loan_Status'], ax = axs[0,2])\n",
    "sns.countplot(x = df['Dependents'], hue = df['Loan_Status'], ax = axs[0,3])\n",
    "sns.countplot(x = df['Education'], hue = df['Loan_Status'], ax = axs[0,4])\n",
    "sns.countplot(x = df['Self_Employed'], hue = df['Loan_Status'], ax = axs[0,5])\n",
    "\n",
    "sns.countplot(x = df['Credit_History'], hue = df['Loan_Status'], ax = axs[1,0])\n",
    "sns.countplot(x = df['Property_Area'], hue = df['Loan_Status'], ax = axs[1,1])\n",
    "sns.countplot(x = df['Gender'], hue = df['Dependents'], ax = axs[1,2])\n",
    "sns.countplot(x = df['Loan_Amount_Term'], hue = df['Loan_Status'], ax = axs[1,3])\n",
    "sns.countplot(x = df['Married'], hue = df['Dependents'], ax = axs[1,4])\n",
    "sns.countplot(x = df['Education'], hue = df['Self_Employed'], ax = axs[1,5])"
   ]
  },
  {
   "cell_type": "code",
   "execution_count": null,
   "id": "13b43b2a",
   "metadata": {},
   "outputs": [],
   "source": [
    "fig, axs = plt.subplots(figsize = (20,3), ncols = 5)\n",
    "sns.countplot(x = df['ApplicantIncome'], hue = df['Loan_Status'], fill = True ,ax = axs[0])\n",
    "sns.countplot(x = df['CoapplicantIncome'], hue = df['Loan_Status'], fill = True ,ax = axs[1])\n",
    "sns.countplot(x = df['LoanAmount'], hue = df['Loan_Status'], fill = True ,ax = axs[2])\n",
    "sns.countplot(x = df['Loan_Amount_Term'], hue = df['Loan_Status'], fill = True ,ax = axs[3])\n",
    "sns.countplot(x = df['ApplicantIncome'], hue = df['Gender'], fill = True ,ax = axs[4])\n",
    "plt.show()"
   ]
  },
  {
   "cell_type": "code",
   "execution_count": null,
   "id": "0cbace4f",
   "metadata": {},
   "outputs": [],
   "source": [
    "sns.pairplot(df, hue = 'Loan_Status')"
   ]
  },
  {
   "cell_type": "code",
   "execution_count": null,
   "id": "50da5018",
   "metadata": {},
   "outputs": [],
   "source": [
    "obj_col = df.select_dtypes('object').columns\n",
    "obj_col"
   ]
  },
  {
   "cell_type": "code",
   "execution_count": null,
   "id": "958e7828",
   "metadata": {},
   "outputs": [],
   "source": [
    "from sklearn.preprocessing import OrdinalEncoder\n",
    "oe = OrdinalEncoder()\n",
    "df[obj_col] = df[obj_col].astype(str)\n",
    "df[obj_col] = oe.fit_transform(df[obj_col])\n",
    "df.head(3)"
   ]
  },
  {
   "cell_type": "code",
   "execution_count": null,
   "id": "48af19ec",
   "metadata": {},
   "outputs": [],
   "source": [
    "data = df"
   ]
  },
  {
   "cell_type": "code",
   "execution_count": null,
   "id": "636c255f",
   "metadata": {},
   "outputs": [],
   "source": [
    "from sklearn.preprocessing import OrdinalEncoder\n",
    "oe = OrdinalEncoder()\n",
    "df[obj_col] = df[obj_col].astype(str)\n",
    "df[obj_col] = oe.fit_transform(df[obj_col])\n",
    "df.head(3)"
   ]
  },
  {
   "cell_type": "code",
   "execution_count": null,
   "id": "d519a1cc",
   "metadata": {},
   "outputs": [],
   "source": [
    "sns.catplot(data = df, kind = 'boxen')\n",
    "plt.xticks(rotation = 90)\n",
    "plt.show()"
   ]
  },
  {
   "cell_type": "code",
   "execution_count": null,
   "id": "c7a43aa2",
   "metadata": {},
   "outputs": [],
   "source": [
    "df.describe()"
   ]
  },
  {
   "cell_type": "code",
   "execution_count": null,
   "id": "5937cd3c",
   "metadata": {},
   "outputs": [],
   "source": [
    "plt.figure(figsize = (20,5))\n",
    "sns.heatmap(df.corr(), annot = True)\n",
    "plt.show()"
   ]
  },
  {
   "cell_type": "code",
   "execution_count": null,
   "id": "705f344f",
   "metadata": {},
   "outputs": [],
   "source": [
    "plt.figure(figsize = (20,5))\n",
    "sns.heatmap(df.corr(), annot = True)\n",
    "plt.show()"
   ]
  },
  {
   "cell_type": "code",
   "execution_count": null,
   "id": "1aeb880b",
   "metadata": {},
   "outputs": [],
   "source": [
    "from sklearn.preprocessing import StandardScaler\n",
    "ss = StandardScaler()\n",
    "df.iloc[:,:-1] = ss.fit_transform(df.iloc[:,:-1])\n",
    "df.head()"
   ]
  },
  {
   "cell_type": "code",
   "execution_count": null,
   "id": "c2d2a5d7",
   "metadata": {},
   "outputs": [],
   "source": [
    "x = df.iloc[:,:-1]\n",
    "y = df.iloc[:,-1]\n",
    "x.head()"
   ]
  },
  {
   "cell_type": "code",
   "execution_count": null,
   "id": "db0994be",
   "metadata": {},
   "outputs": [],
   "source": [
    "from sklearn.model_selection import train_test_split\n",
    "xtrain, xtest, ytrain, ytest = train_test_split(x,y,random_state = 4, test_size = 0.25, stratify = y)"
   ]
  },
  {
   "cell_type": "code",
   "execution_count": null,
   "id": "1143251c",
   "metadata": {},
   "outputs": [],
   "source": [
    "def mymodel(model):\n",
    "    model.fit(xtrain,ytrain)\n",
    "    ypred = model.predict(xtest)\n",
    "    train_accuracy = model.score(xtrain,ytrain)\n",
    "    test_accuracy = model.score(xtest, ytest)\n",
    "    print(str(model)[:-2], 'Accuracy')\n",
    "    print('Accuracy: ', accuracy_score(ytest,ypred), \"\\nClassification Report: \\n\", classification_report(ytest, ypred), '\\nConfusion Matrix: \\n', confusion_matrix(ytest, ypred))\n",
    "    print(f'Training Accuracy: {train_accuracy}\\nTesting Accuracy: {test_accuracy}')\n",
    "    print()\n",
    "    print()\n",
    "    return model"
   ]
  },
  {
   "cell_type": "code",
   "execution_count": null,
   "id": "d8cf8e02",
   "metadata": {},
   "outputs": [],
   "source": [
    "from sklearn.metrics import accuracy_score, confusion_matrix, classification_report"
   ]
  },
  {
   "cell_type": "code",
   "execution_count": null,
   "id": "ac809a01",
   "metadata": {},
   "outputs": [],
   "source": [
    "from sklearn.neighbors import KNeighborsClassifier\n",
    "knn = mymodel(KNeighborsClassifier())"
   ]
  },
  {
   "cell_type": "code",
   "execution_count": null,
   "id": "e6c2ae9c",
   "metadata": {},
   "outputs": [],
   "source": [
    "from sklearn.svm import SVC\n",
    "svc = mymodel(SVC())"
   ]
  },
  {
   "cell_type": "code",
   "execution_count": null,
   "id": "f3238612",
   "metadata": {},
   "outputs": [],
   "source": [
    "from sklearn.tree import DecisionTreeClassifier\n",
    "dt= mymodel(DecisionTreeClassifier())"
   ]
  },
  {
   "cell_type": "code",
   "execution_count": null,
   "id": "a8e91ba7",
   "metadata": {},
   "outputs": [],
   "source": []
  }
 ],
 "metadata": {
  "kernelspec": {
   "display_name": "Python 3 (ipykernel)",
   "language": "python",
   "name": "python3"
  },
  "language_info": {
   "codemirror_mode": {
    "name": "ipython",
    "version": 3
   },
   "file_extension": ".py",
   "mimetype": "text/x-python",
   "name": "python",
   "nbconvert_exporter": "python",
   "pygments_lexer": "ipython3",
   "version": "3.10.9"
  }
 },
 "nbformat": 4,
 "nbformat_minor": 5
}
